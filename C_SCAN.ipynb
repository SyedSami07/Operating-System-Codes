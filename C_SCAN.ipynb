{
 "cells": [
  {
   "cell_type": "code",
   "execution_count": 6,
   "id": "9c5bcff9-1cc2-4012-a123-2302dc70007c",
   "metadata": {},
   "outputs": [
    {
     "name": "stdout",
     "output_type": "stream",
     "text": [
      "Seek Sequence: [50, 88, 150, 172, 195, 199, 0, 15, 30, 44]\n",
      "Total Seek Count: 392\n"
     ]
    }
   ],
   "source": [
    "def cscan(requests, head, disk_size):\n",
    "    \n",
    "    requests.sort()\n",
    "\n",
    "    left = [req for req in requests if req < head]\n",
    "    right = [req for req in requests if req >= head]\n",
    "\n",
    "    seek_sequence = right + [disk_size - 1, 0] + left\n",
    "    seek_count = 0\n",
    "    current_position = head\n",
    "\n",
    "    for req in seek_sequence:\n",
    "        if req >= current_position:\n",
    "            seek_count += req - current_position\n",
    "        else:\n",
    "            seek_count += current_position - req\n",
    "        current_position = req\n",
    "\n",
    "    # Output results\n",
    "    print(\"Seek Sequence:\", [head] + seek_sequence)\n",
    "    print(\"Total Seek Count:\", seek_count)\n",
    "\n",
    "\n",
    "# Input values\n",
    "requests = [88, 150, 172, 44, 195, 30, 15]  \n",
    "head = 50  \n",
    "disk_size = 200  \n",
    "\n",
    "cscan(requests, head, disk_size)\n"
   ]
  },
  {
   "cell_type": "code",
   "execution_count": null,
   "id": "b16ca359-3edc-4270-9cac-e31477223794",
   "metadata": {},
   "outputs": [],
   "source": []
  }
 ],
 "metadata": {
  "kernelspec": {
   "display_name": "Python 3 (ipykernel)",
   "language": "python",
   "name": "python3"
  },
  "language_info": {
   "codemirror_mode": {
    "name": "ipython",
    "version": 3
   },
   "file_extension": ".py",
   "mimetype": "text/x-python",
   "name": "python",
   "nbconvert_exporter": "python",
   "pygments_lexer": "ipython3",
   "version": "3.13.1"
  }
 },
 "nbformat": 4,
 "nbformat_minor": 5
}
