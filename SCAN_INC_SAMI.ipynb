{
 "cells": [
  {
   "cell_type": "code",
   "execution_count": 2,
   "id": "067dc36c-d6b0-4539-8b1a-8236b50eba02",
   "metadata": {},
   "outputs": [
    {
     "name": "stdout",
     "output_type": "stream",
     "text": [
      "[88, 150, 44, 173, 30, 15, 195]\n",
      "50\n"
     ]
    }
   ],
   "source": [
    "n = int(input(\"Enter total no of tracks: \"))\n",
    "\n",
    "arr = [0 for i in range(n)]\n",
    "req = int(input(\"Enter no of request data: \"))\n",
    "\n",
    "req_arr = []\n",
    "for j in range(req):\n",
    "    a = int(input(\"Enter requested data\"))\n",
    "    req_arr.append(a)\n",
    "head = int(input(\"Enter head: \"))\n",
    "\n",
    "print(req_arr)\n",
    "print(head)"
   ]
  },
  {
   "cell_type": "code",
   "execution_count": 3,
   "id": "80666bc7-8c3d-4a65-b1dd-4144e2d38e74",
   "metadata": {},
   "outputs": [
    {
     "name": "stdout",
     "output_type": "stream",
     "text": [
      "[15, 30, 44, 88, 150, 173, 195]\n"
     ]
    }
   ],
   "source": [
    "req_arr.sort()\n",
    "print(req_arr)"
   ]
  },
  {
   "cell_type": "code",
   "execution_count": 4,
   "id": "3c46ccd5-7657-4b62-89b4-52ec7aba8083",
   "metadata": {},
   "outputs": [
    {
     "name": "stdout",
     "output_type": "stream",
     "text": [
      "Total movement: 333\n"
     ]
    }
   ],
   "source": [
    "#SCAN LOGIC\n",
    "result = ((len(arr)-1 - head) + ((len(arr)-1)-req_arr[0]))\n",
    "print(\"Total movement:\", result)"
   ]
  },
  {
   "cell_type": "code",
   "execution_count": null,
   "id": "514c2380-5c2d-43a2-b464-76f35ad478c0",
   "metadata": {},
   "outputs": [],
   "source": []
  }
 ],
 "metadata": {
  "kernelspec": {
   "display_name": "Python 3 (ipykernel)",
   "language": "python",
   "name": "python3"
  },
  "language_info": {
   "codemirror_mode": {
    "name": "ipython",
    "version": 3
   },
   "file_extension": ".py",
   "mimetype": "text/x-python",
   "name": "python",
   "nbconvert_exporter": "python",
   "pygments_lexer": "ipython3",
   "version": "3.13.1"
  }
 },
 "nbformat": 4,
 "nbformat_minor": 5
}
