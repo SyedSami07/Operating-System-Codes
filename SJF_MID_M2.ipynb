{
 "cells": [
  {
   "cell_type": "code",
   "execution_count": 2,
   "metadata": {},
   "outputs": [
    {
     "name": "stdin",
     "output_type": "stream",
     "text": [
      "number of Process:  5\n"
     ]
    },
    {
     "name": "stdout",
     "output_type": "stream",
     "text": [
      "5\n"
     ]
    },
    {
     "name": "stdin",
     "output_type": "stream",
     "text": [
      " 1 4 5 \n",
      " 2 0 2\n",
      " 3 1 5\n",
      " 4 6 7\n",
      " 5 2 3\n"
     ]
    },
    {
     "name": "stdout",
     "output_type": "stream",
     "text": [
      "[[2, 0, 2, 2, 2, 0, 0], [5, 2, 3, 5, 3, 0, 0], [3, 1, 5, 10, 9, 4, 4], [1, 4, 5, 15, 11, 6, 6], [4, 6, 7, 22, 16, 9, 9]]\n"
     ]
    }
   ],
   "source": [
    "\n",
    "n = int(input(\"number of Process: \"))\n",
    "print(n)\n",
    "arr = [[0 for i in range(7)] for j in range (n)]\n",
    "for i in range(n):\n",
    "        pid, at, bt = input().split()\n",
    "        arr[i][0] = int(pid)\n",
    "        arr[i][1] = int(at)\n",
    "        arr[i][2] = int(bt)\n",
    "\n",
    "arr = sorted(arr, key =lambda x:x[1])\n",
    "\n",
    "def arr_sort(x,k):\n",
    "    for i in range(k, len(x)):\n",
    "        for j in range(k, len(x)+k-i-1):\n",
    "            if x[j][2] > x[j+1][2] and x[j][1] <= current_time and x[j+1][1] <= current_time:\n",
    "                x[j],x[j+1] = x[j+1], x[j]\n",
    "    return x\n",
    "\n",
    "\n",
    "current_time =0 \n",
    "for i in range(n):\n",
    "    \n",
    "    arr_sort(arr, i)\n",
    "    at = arr[i][1]\n",
    "    bt = arr[i][2]\n",
    "    if at > current_time:\n",
    "        current_time = at\n",
    "    start_time = current_time\n",
    "    arr[i][3] = start_time + bt\n",
    "    arr[i][4] = arr[i][3] - at\n",
    "    arr[i][5] = arr[i][4] - bt\n",
    "    arr[i][6] = start_time - at\n",
    "    current_time = arr[i][3]\n",
    "\n",
    "print(arr)\n"
   ]
  },
  {
   "cell_type": "code",
   "execution_count": null,
   "metadata": {},
   "outputs": [],
   "source": []
  }
 ],
 "metadata": {
  "kernelspec": {
   "display_name": "Python 3 (ipykernel)",
   "language": "python",
   "name": "python3"
  },
  "language_info": {
   "codemirror_mode": {
    "name": "ipython",
    "version": 3
   },
   "file_extension": ".py",
   "mimetype": "text/x-python",
   "name": "python",
   "nbconvert_exporter": "python",
   "pygments_lexer": "ipython3",
   "version": "3.13.1"
  }
 },
 "nbformat": 4,
 "nbformat_minor": 4
}
