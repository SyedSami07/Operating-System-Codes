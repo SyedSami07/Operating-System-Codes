{
 "cells": [
  {
   "cell_type": "code",
   "execution_count": 1,
   "id": "b88ebbef-7834-4fd2-922c-f8a5ed94e409",
   "metadata": {},
   "outputs": [
    {
     "name": "stdin",
     "output_type": "stream",
     "text": [
      "Frame size:  3\n",
      "Ref values:  2 3 2 1 5 2 4 5 3 2 5 2\n"
     ]
    },
    {
     "name": "stdout",
     "output_type": "stream",
     "text": [
      "Misses: 6\n",
      "Hits: 6\n"
     ]
    }
   ],
   "source": [
    "# Input frame size and reference values\n",
    "frame_size = int(input(\"Frame size: \"))\n",
    "ref_values = list(map(int, input(\"Ref values: \").split()))\n",
    "\n",
    "# Initialize frame and counters\n",
    "frame = []\n",
    "misses = 0\n",
    "hits = 0\n",
    "\n",
    "# Process each value in the reference string\n",
    "for i in range(len(ref_values)):\n",
    "    value = ref_values[i]\n",
    "    if value in frame:\n",
    "        hits += 1\n",
    "    else:\n",
    "        misses += 1\n",
    "        if len(frame) < frame_size:\n",
    "            frame.append(value)\n",
    "        else:\n",
    "            # Find the page to replace\n",
    "            farthest_index = -1\n",
    "            replace_index = -1\n",
    "            for j in range(len(frame)):\n",
    "                # Find the next use of frame[j]\n",
    "                if frame[j] in ref_values[i + 1:]:\n",
    "                    next_use = ref_values.index(frame[j], i + 1)\n",
    "                else:\n",
    "                    next_use = float('inf')  # Not used again\n",
    "                if next_use > farthest_index:\n",
    "                    farthest_index = next_use\n",
    "                    replace_index = j\n",
    "            frame[replace_index] = value\n",
    "\n",
    "# Print results\n",
    "print(\"Misses:\", misses)\n",
    "print(\"Hits:\", hits)\n"
   ]
  },
  {
   "cell_type": "code",
   "execution_count": null,
   "id": "cb319d71-fb96-4ed4-87f6-db1f34630f08",
   "metadata": {},
   "outputs": [],
   "source": []
  }
 ],
 "metadata": {
  "kernelspec": {
   "display_name": "Python 3 (ipykernel)",
   "language": "python",
   "name": "python3"
  },
  "language_info": {
   "codemirror_mode": {
    "name": "ipython",
    "version": 3
   },
   "file_extension": ".py",
   "mimetype": "text/x-python",
   "name": "python",
   "nbconvert_exporter": "python",
   "pygments_lexer": "ipython3",
   "version": "3.13.1"
  }
 },
 "nbformat": 4,
 "nbformat_minor": 5
}
