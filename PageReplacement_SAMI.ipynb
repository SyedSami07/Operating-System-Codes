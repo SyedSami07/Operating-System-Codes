{
 "cells": [
  {
   "cell_type": "code",
   "execution_count": 1,
   "id": "d564fc0a-fddd-4663-b1ad-b7dd427d44ac",
   "metadata": {},
   "outputs": [
    {
     "name": "stdin",
     "output_type": "stream",
     "text": [
      "Frame size:  3\n",
      "Ref values:  2 3 2 1 5 2 4 5 3 2 5 2\n"
     ]
    },
    {
     "name": "stdout",
     "output_type": "stream",
     "text": [
      "[-1, -1, -1]\n",
      "Total hit:  3\n",
      "Total miss:  9\n",
      "Ratio is:  0.25\n",
      "Percentage is: 25.00 %\n"
     ]
    }
   ],
   "source": [
    "frame = int(input(\"Frame size: \"))          \n",
    "ref_string = list(map(int, input(\"Ref values: \").split()))\n",
    "\n",
    "frames = [-1] * frame #(3*-1)\n",
    "hit, miss = 0, 0\n",
    "print(frames)\n",
    "\n",
    "replace = 0                    \n",
    "for page in ref_string:          \n",
    "    if page in frames:\n",
    "        hit += 1\n",
    "    else:\n",
    "        miss += 1             \n",
    "        frames[replace] = page \n",
    "        replace += 1             \n",
    "        if replace == frame:\n",
    "            replace = 0\n",
    "\n",
    "hit_ratio = hit / len(ref_string)\n",
    "miss_ratio = miss/ len(ref_string)\n",
    "\n",
    "print(\"Total hit: \", hit)\n",
    "print(\"Total miss: \", miss)\n",
    "print(\"Ratio is: \", hit_ratio)\n",
    "print(\"Ratio is: \", miss_ratio)\n"
   ]
  },
  {
   "cell_type": "code",
   "execution_count": null,
   "id": "6832bc4e-0039-4d34-a40b-47b5f364848c",
   "metadata": {},
   "outputs": [],
   "source": []
  }
 ],
 "metadata": {
  "kernelspec": {
   "display_name": "Python 3 (ipykernel)",
   "language": "python",
   "name": "python3"
  },
  "language_info": {
   "codemirror_mode": {
    "name": "ipython",
    "version": 3
   },
   "file_extension": ".py",
   "mimetype": "text/x-python",
   "name": "python",
   "nbconvert_exporter": "python",
   "pygments_lexer": "ipython3",
   "version": "3.13.1"
  }
 },
 "nbformat": 4,
 "nbformat_minor": 5
}
