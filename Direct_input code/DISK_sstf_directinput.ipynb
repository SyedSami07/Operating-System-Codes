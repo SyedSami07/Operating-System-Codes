{
 "cells": [
  {
   "cell_type": "code",
   "execution_count": 3,
   "id": "adcd482f-4bbd-4214-9b4c-80920cb15c93",
   "metadata": {},
   "outputs": [
    {
     "name": "stdout",
     "output_type": "stream",
     "text": [
      "215\n"
     ]
    }
   ],
   "source": [
    "req_arr =[88, 150, 44, 173, 30, 15, 195]\n",
    "head = 50\n",
    "total_movement = 0\n",
    "while req_arr:\n",
    "    closest = min(req_arr, key=lambda x: abs(x-head))\n",
    "    req_arr.remove(closest)\n",
    "    total_movement+=abs(closest-head)\n",
    "    head = closest\n",
    "print(total_movement)"
   ]
  },
  {
   "cell_type": "code",
   "execution_count": null,
   "id": "a9d1d2f4-5b7a-497a-8716-65644a16f80d",
   "metadata": {},
   "outputs": [],
   "source": []
  }
 ],
 "metadata": {
  "kernelspec": {
   "display_name": "Python 3 (ipykernel)",
   "language": "python",
   "name": "python3"
  },
  "language_info": {
   "codemirror_mode": {
    "name": "ipython",
    "version": 3
   },
   "file_extension": ".py",
   "mimetype": "text/x-python",
   "name": "python",
   "nbconvert_exporter": "python",
   "pygments_lexer": "ipython3",
   "version": "3.13.1"
  }
 },
 "nbformat": 4,
 "nbformat_minor": 5
}
