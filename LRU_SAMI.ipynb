{
 "cells": [
  {
   "cell_type": "code",
   "execution_count": 3,
   "id": "3c4274de-3a8e-4a33-95e2-219872ab4165",
   "metadata": {},
   "outputs": [
    {
     "name": "stdin",
     "output_type": "stream",
     "text": [
      "Frame size:  3\n",
      "Ref values:  2 3 2 1 5 2 4 5 3 2 5 2\n"
     ]
    },
    {
     "name": "stdout",
     "output_type": "stream",
     "text": [
      "Misses: 7\n",
      "Hits: 5\n"
     ]
    }
   ],
   "source": [
    "# Input frame size and reference values\n",
    "frame_size = int(input(\"Frame size: \"))\n",
    "ref_values = list(map(int, input(\"Ref values: \").split()))\n",
    "\n",
    "# Initialize frame and counters\n",
    "frame = []\n",
    "misses = 0\n",
    "hits = 0\n",
    "\n",
    "# Process each value in the reference string\n",
    "for value in ref_values:\n",
    "    if value in frame:\n",
    "        hits += 1\n",
    "        frame.remove(value)\n",
    "    else:\n",
    "        misses += 1\n",
    "        if len(frame) >= frame_size:\n",
    "            frame.pop(0)\n",
    "    frame.append(value)\n",
    "\n",
    "# Print results\n",
    "print(\"Misses:\", misses)\n",
    "print(\"Hits:\", hits)\n"
   ]
  },
  {
   "cell_type": "code",
   "execution_count": null,
   "id": "ebb6c6c5-4fe0-49fa-af9e-2e0b598c3c1c",
   "metadata": {},
   "outputs": [],
   "source": []
  }
 ],
 "metadata": {
  "kernelspec": {
   "display_name": "Python 3 (ipykernel)",
   "language": "python",
   "name": "python3"
  },
  "language_info": {
   "codemirror_mode": {
    "name": "ipython",
    "version": 3
   },
   "file_extension": ".py",
   "mimetype": "text/x-python",
   "name": "python",
   "nbconvert_exporter": "python",
   "pygments_lexer": "ipython3",
   "version": "3.13.1"
  }
 },
 "nbformat": 4,
 "nbformat_minor": 5
}
