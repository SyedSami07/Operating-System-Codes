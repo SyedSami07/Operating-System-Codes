{
 "cells": [
  {
   "cell_type": "code",
   "execution_count": 2,
   "id": "54dddf81-7071-4469-b8ea-e6ba27464f66",
   "metadata": {},
   "outputs": [
    {
     "name": "stdout",
     "output_type": "stream",
     "text": [
      "673\n"
     ]
    }
   ],
   "source": [
    "req_arr = [88,150,44,173,30,15,195]\n",
    "head = 50\n",
    "total_movement = 0\n",
    "for i in range(0, len(req_arr)):\n",
    "    movement=abs(req_arr[i]-head)\n",
    "    total_movement+=movement\n",
    "    head=req_arr[i]\n",
    "print(total_movement)"
   ]
  },
  {
   "cell_type": "code",
   "execution_count": null,
   "id": "e41603d1-a47b-42c3-83bf-c3b3d8167f3b",
   "metadata": {},
   "outputs": [],
   "source": []
  }
 ],
 "metadata": {
  "kernelspec": {
   "display_name": "Python 3 (ipykernel)",
   "language": "python",
   "name": "python3"
  },
  "language_info": {
   "codemirror_mode": {
    "name": "ipython",
    "version": 3
   },
   "file_extension": ".py",
   "mimetype": "text/x-python",
   "name": "python",
   "nbconvert_exporter": "python",
   "pygments_lexer": "ipython3",
   "version": "3.13.1"
  }
 },
 "nbformat": 4,
 "nbformat_minor": 5
}
