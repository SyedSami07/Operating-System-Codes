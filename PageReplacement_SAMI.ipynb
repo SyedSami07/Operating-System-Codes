frame = int(input("Frame size: "))          
ref_string = list(map(int, input("Ref values: ").split()))

frames = [-1] * frame #(3*-1)
hit, miss = 0, 0
print(frames)

replace = 0                    
for page in ref_string:          
    if page in frames:
        hit += 1
    else:
        miss += 1             
        frames[replace] = page 
        replace += 1             
        if replace == frame:
            replace = 0

hit_ratio = hit / len(ref_string)
miss_ratio = miss/ len(ref_string)

print("Total hit: ", hit)
print("Total miss: ", miss)
print("Ratio is: ", hit_ratio)
print("Ratio is: ", miss_ratio)
