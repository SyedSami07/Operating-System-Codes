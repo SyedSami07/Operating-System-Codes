{
 "cells": [
  {
   "cell_type": "code",
   "execution_count": 9,
   "id": "ef4d4014-d3e0-43ba-bc91-e7be14a7d92c",
   "metadata": {},
   "outputs": [
    {
     "name": "stdin",
     "output_type": "stream",
     "text": [
      "Enter number of Resources:  3\n",
      "Enter resources:  10 5 7\n",
      "Enter number of processes:  5\n",
      "Process 1 needs:  7 5 3\n",
      "Process 2 needs:  3 2 2\n",
      "Process 3 needs:  9 0 2\n",
      "Process 4 needs:  2 2 2\n",
      "Process 5 needs:  4 3 3\n",
      "Process 1 allocated:  0 1 0\n",
      "Process 2 allocated:  2 0 0\n",
      "Process 3 allocated:  3 0 2\n",
      "Process 4 allocated:  2 1 1\n",
      "Process 5 allocated:  0 0 2\n"
     ]
    },
    {
     "name": "stdout",
     "output_type": "stream",
     "text": [
      "Maximum Resource needs for each process: [[7, 5, 3], [3, 2, 2], [9, 0, 2], [2, 2, 2], [4, 3, 3]]\n",
      "Allocated Resource for each process: [[0, 1, 0], [2, 0, 0], [3, 0, 2], [2, 1, 1], [0, 0, 2]]\n",
      "Current Resources need: [[7, 4, 3], [1, 2, 2], [6, 0, 0], [0, 1, 1], [4, 3, 1]]\n",
      "Available Resource: [3, 3, 2]\n",
      "Process 2 completed. New available resource: [5, 3, 2]\n",
      "Process 4 completed. New available resource: [7, 4, 3]\n",
      "Process 1 completed. New available resource: [7, 5, 3]\n",
      "Process 3 completed. New available resource: [10, 5, 5]\n",
      "Process 5 completed. New available resource: [10, 5, 7]\n",
      "Safe sequence is: [2, 4, 1, 3, 5]\n"
     ]
    }
   ],
   "source": [
    "# Input and initialization\n",
    "num_res = int(input(\"Enter number of Resources: \"))\n",
    "resources = list(map(int, input(\"Enter resources: \").split()))\n",
    "num_pro = int(input(\"Enter number of processes: \"))\n",
    "\n",
    "mx_need = [list(map(int, input(f\"Process {i + 1} needs: \").split())) for i in range(num_pro)]\n",
    "allocated = [list(map(int, input(f\"Process {i + 1} allocated: \").split())) for i in range(num_pro)]\n",
    "\n",
    "# Calculate current resources and available resources\n",
    "current_res = [[mx_need[i][j] - allocated[i][j] for j in range(num_res)] for i in range(num_pro)]\n",
    "available_res = [resources[i] - sum(allocated[j][i] for j in range(num_pro)) for i in range(num_res)]\n",
    "\n",
    "# Print initial state\n",
    "print(\"Maximum Resource needs for each process:\", mx_need)\n",
    "print(\"Allocated Resource for each process:\", allocated)\n",
    "print(\"Current Resources need:\", current_res)\n",
    "print(f\"Available Resource: {available_res}\")\n",
    "\n",
    "# Process to find safe sequence\n",
    "completed, safe_seq = set(), []\n",
    "while len(safe_seq) < num_pro:\n",
    "    for i in range(num_pro):\n",
    "        if i not in completed and all(current_res[i][j] <= available_res[j] for j in range(num_res)):\n",
    "            available_res = [available_res[j] + allocated[i][j] for j in range(num_res)]\n",
    "            completed.add(i)\n",
    "            safe_seq.append(i + 1)\n",
    "            print(f\"Process {i + 1} completed. New available resource: {available_res}\")\n",
    "            break\n",
    "\n",
    "# Print safe sequence\n",
    "print(\"Safe sequence is:\", safe_seq)\n"
   ]
  },
  {
   "cell_type": "code",
   "execution_count": null,
   "id": "ea2a198c-8643-434a-a276-02e47d68fa42",
   "metadata": {},
   "outputs": [],
   "source": []
  }
 ],
 "metadata": {
  "kernelspec": {
   "display_name": "Python 3 (ipykernel)",
   "language": "python",
   "name": "python3"
  },
  "language_info": {
   "codemirror_mode": {
    "name": "ipython",
    "version": 3
   },
   "file_extension": ".py",
   "mimetype": "text/x-python",
   "name": "python",
   "nbconvert_exporter": "python",
   "pygments_lexer": "ipython3",
   "version": "3.13.1"
  }
 },
 "nbformat": 4,
 "nbformat_minor": 5
}
