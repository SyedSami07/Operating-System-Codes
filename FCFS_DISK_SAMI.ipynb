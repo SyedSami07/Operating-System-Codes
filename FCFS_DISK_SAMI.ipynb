{
 "cells": [
  {
   "cell_type": "code",
   "execution_count": 6,
   "id": "dcb345ff-9e58-422b-a5b4-7b38de768dfd",
   "metadata": {},
   "outputs": [
    {
     "name": "stdin",
     "output_type": "stream",
     "text": [
      "Enter no of request data:  7\n"
     ]
    }
   ],
   "source": [
    "req = int(input(\"Enter no of request data: \"))"
   ]
  },
  {
   "cell_type": "code",
   "execution_count": 8,
   "id": "4baede91-c4a6-4122-8891-788b1c2a1399",
   "metadata": {},
   "outputs": [
    {
     "name": "stdin",
     "output_type": "stream",
     "text": [
      "Enter requested data 88\n",
      "Enter requested data 150\n",
      "Enter requested data 44\n",
      "Enter requested data 173\n",
      "Enter requested data 30\n",
      "Enter requested data 15\n",
      "Enter requested data 195\n",
      "Enter head:  50\n"
     ]
    },
    {
     "name": "stdout",
     "output_type": "stream",
     "text": [
      "[88, 150, 44, 173, 30, 15, 195]\n",
      "50\n"
     ]
    }
   ],
   "source": [
    "req_arr = []\n",
    "for j in range(req):\n",
    "    a = int(input(\"Enter requested data\"))\n",
    "    req_arr.append(a)\n",
    "head = int(input(\"Enter head: \"))\n",
    "total_movement = 0\n",
    "\n",
    "print(req_arr)\n",
    "print(head)"
   ]
  },
  {
   "cell_type": "code",
   "execution_count": 9,
   "id": "7480e4a5-784c-447d-9a59-89167e54dd95",
   "metadata": {},
   "outputs": [
    {
     "name": "stdout",
     "output_type": "stream",
     "text": [
      "673\n"
     ]
    }
   ],
   "source": [
    "for i in range(0, len(req_arr)):\n",
    "    movement = abs(req_arr[i]-head)\n",
    "    total_movement += movement\n",
    "    head=req_arr[i]\n",
    "print(total_movement)"
   ]
  },
  {
   "cell_type": "code",
   "execution_count": null,
   "id": "6cf5308a-0c14-4304-b37a-69fe4f4c4ca3",
   "metadata": {},
   "outputs": [],
   "source": []
  }
 ],
 "metadata": {
  "kernelspec": {
   "display_name": "Python 3 (ipykernel)",
   "language": "python",
   "name": "python3"
  },
  "language_info": {
   "codemirror_mode": {
    "name": "ipython",
    "version": 3
   },
   "file_extension": ".py",
   "mimetype": "text/x-python",
   "name": "python",
   "nbconvert_exporter": "python",
   "pygments_lexer": "ipython3",
   "version": "3.13.1"
  }
 },
 "nbformat": 4,
 "nbformat_minor": 5
}
