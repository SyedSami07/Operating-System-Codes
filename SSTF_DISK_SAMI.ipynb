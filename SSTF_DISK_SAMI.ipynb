{
 "cells": [
  {
   "cell_type": "code",
   "execution_count": 1,
   "id": "267539de-c43d-4fa9-92f2-15a6637bb148",
   "metadata": {},
   "outputs": [
    {
     "name": "stdin",
     "output_type": "stream",
     "text": [
      "Enter no of request data:  7\n",
      "Enter requested data 88\n",
      "Enter requested data 150\n",
      "Enter requested data 44\n",
      "Enter requested data 173\n",
      "Enter requested data 30\n",
      "Enter requested data 15\n",
      "Enter requested data 195\n",
      "Enter head:  50\n"
     ]
    },
    {
     "name": "stdout",
     "output_type": "stream",
     "text": [
      "[88, 150, 44, 173, 30, 15, 195]\n",
      "50\n"
     ]
    }
   ],
   "source": [
    "req = int(input(\"Enter no of request data: \"))\n",
    "\n",
    "req_arr = []\n",
    "for j in range(req):\n",
    "    a = int(input(\"Enter requested data\"))\n",
    "    req_arr.append(a)\n",
    "head = int(input(\"Enter head: \"))\n",
    "total_movement = 0\n",
    "\n",
    "print(req_arr)\n",
    "print(head)"
   ]
  },
  {
   "cell_type": "code",
   "execution_count": 2,
   "id": "18153db0-28c1-4ce7-9c47-ffd380734f82",
   "metadata": {},
   "outputs": [
    {
     "name": "stdout",
     "output_type": "stream",
     "text": [
      "total movement 215\n"
     ]
    }
   ],
   "source": [
    "#SSTF LOGIC\n",
    "while req_arr: \n",
    "    #Find the request closest to the head\n",
    "    closest = min(req_arr, key=lambda x: abs(x-head)) #Find the closest request by absolute distance\n",
    "    \n",
    "    req_arr.remove(closest) #Remove that request from the list\n",
    "    \n",
    "    total_movement = total_movement + abs(closest-head) #Add the distance to total movement\n",
    "   \n",
    "    head = closest #Move the head to closest request\n",
    "    \n",
    "print(\"total movement\", total_movement)"
   ]
  },
  {
   "cell_type": "code",
   "execution_count": null,
   "id": "3d7fafd4-5fe4-49eb-9056-e6847f3fb461",
   "metadata": {},
   "outputs": [],
   "source": []
  }
 ],
 "metadata": {
  "kernelspec": {
   "display_name": "Python 3 (ipykernel)",
   "language": "python",
   "name": "python3"
  },
  "language_info": {
   "codemirror_mode": {
    "name": "ipython",
    "version": 3
   },
   "file_extension": ".py",
   "mimetype": "text/x-python",
   "name": "python",
   "nbconvert_exporter": "python",
   "pygments_lexer": "ipython3",
   "version": "3.13.1"
  }
 },
 "nbformat": 4,
 "nbformat_minor": 5
}
