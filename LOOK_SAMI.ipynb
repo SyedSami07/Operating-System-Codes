{
 "cells": [
  {
   "cell_type": "code",
   "execution_count": 8,
   "id": "ede60d95-5433-4cee-9e4c-600c90547cae",
   "metadata": {},
   "outputs": [
    {
     "name": "stdin",
     "output_type": "stream",
     "text": [
      "Enter total number of tracks:  200\n",
      "Enter number of request data:  7\n"
     ]
    }
   ],
   "source": [
    "n = int(input(\"Enter total number of tracks: \"))\n",
    "arr = [0 for i in range(n)]\n",
    "req = int(input(\"Enter number of request data: \"))"
   ]
  },
  {
   "cell_type": "code",
   "execution_count": 9,
   "id": "d911458c-0dc7-498b-b45d-cb30920a112c",
   "metadata": {},
   "outputs": [
    {
     "name": "stdin",
     "output_type": "stream",
     "text": [
      "Enter requested data:  88\n",
      "Enter requested data:  150\n",
      "Enter requested data:  44\n",
      "Enter requested data:  173\n",
      "Enter requested data:  30\n",
      "Enter requested data:  15\n",
      "Enter requested data:  195\n",
      "Enter head:  50\n"
     ]
    },
    {
     "name": "stdout",
     "output_type": "stream",
     "text": [
      "Request array: [88, 150, 44, 173, 30, 15, 195]\n",
      "Initial head position: 50\n"
     ]
    }
   ],
   "source": [
    "# Array to store requested data\n",
    "req_arr = []\n",
    "for j in range(req):\n",
    "    a = int(input(\"Enter requested data: \"))\n",
    "    req_arr.append(a)\n",
    "\n",
    "# Input initial head position\n",
    "head = int(input(\"Enter head: \"))\n",
    "total_movement = 0\n",
    "\n",
    "print(\"Request array:\", req_arr)\n",
    "print(\"Initial head position:\", head)"
   ]
  },
  {
   "cell_type": "code",
   "execution_count": 10,
   "id": "61017d2e-949b-4027-b8e6-83113b836872",
   "metadata": {},
   "outputs": [
    {
     "name": "stdout",
     "output_type": "stream",
     "text": [
      "Sorted request array: [15, 30, 44, 88, 150, 173, 195]\n",
      "Seek sequence: [15, 88, 150, 173, 195, 44, 30, 15]\n",
      "Total movement: 325\n"
     ]
    }
   ],
   "source": [
    "# Sort the request array\n",
    "req_arr.sort()\n",
    "print(\"Sorted request array:\", req_arr)\n",
    "\n",
    "# LOOK LOGIC\n",
    "left = [req for req in req_arr if req < head]\n",
    "right = [req for req in req_arr if req >= head]\n",
    "seek_sequence = right + list(reversed(left))\n",
    "\n",
    "for req in seek_sequence:\n",
    "    total_movement += abs(req - head)\n",
    "    head = req\n",
    "\n",
    "print(\"Seek sequence:\", [head] + seek_sequence)\n",
    "print(\"Total movement:\", total_movement)"
   ]
  },
  {
   "cell_type": "code",
   "execution_count": null,
   "id": "4e1006e1-969c-47ae-b4ef-687abbc54fa9",
   "metadata": {},
   "outputs": [],
   "source": []
  }
 ],
 "metadata": {
  "kernelspec": {
   "display_name": "Python 3 (ipykernel)",
   "language": "python",
   "name": "python3"
  },
  "language_info": {
   "codemirror_mode": {
    "name": "ipython",
    "version": 3
   },
   "file_extension": ".py",
   "mimetype": "text/x-python",
   "name": "python",
   "nbconvert_exporter": "python",
   "pygments_lexer": "ipython3",
   "version": "3.13.1"
  }
 },
 "nbformat": 4,
 "nbformat_minor": 5
}
