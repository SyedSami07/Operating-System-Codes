{
 "cells": [
  {
   "cell_type": "code",
   "execution_count": 1,
   "metadata": {},
   "outputs": [
    {
     "name": "stdout",
     "output_type": "stream",
     "text": [
      "Num of process: 5\n",
      "[[0, 0, 0, 0, 0, 0, 0], [0, 0, 0, 0, 0, 0, 0], [0, 0, 0, 0, 0, 0, 0], [0, 0, 0, 0, 0, 0, 0], [0, 0, 0, 0, 0, 0, 0]]\n",
      "1 3 1\n",
      "2 4 5\n",
      "3 0 2\n",
      "4 3 7\n",
      "5 5 5\n"
     ]
    }
   ],
   "source": [
    "n = int(input(\"Num of process: \")) \n",
    "arr = [[0 for i in range(7)]for j in range(n)]\n",
    "print(arr)\n",
    "for i in range(n): \n",
    "    pid,at,bt = input().split()\n",
    "    arr[i][0]=int(pid)\n",
    "    arr[i][1]=int(at)\n",
    "    arr[i][2]=int(bt)\n"
   ]
  },
  {
   "cell_type": "code",
   "execution_count": 2,
   "metadata": {},
   "outputs": [
    {
     "name": "stdout",
     "output_type": "stream",
     "text": [
      "[[1, 3, 1, 0, 0, 0, 0], [2, 4, 5, 0, 0, 0, 0], [3, 0, 2, 0, 0, 0, 0], [4, 3, 7, 0, 0, 0, 0], [5, 5, 5, 0, 0, 0, 0]]\n"
     ]
    }
   ],
   "source": [
    "print(arr)"
   ]
  },
  {
   "cell_type": "code",
   "execution_count": 3,
   "metadata": {},
   "outputs": [
    {
     "name": "stdout",
     "output_type": "stream",
     "text": [
      "[[3, 0, 2, 0, 0, 0, 0], [1, 3, 1, 0, 0, 0, 0], [4, 3, 7, 0, 0, 0, 0], [2, 4, 5, 0, 0, 0, 0], [5, 5, 5, 0, 0, 0, 0]]\n"
     ]
    }
   ],
   "source": [
    "arr=sorted(arr,key=lambda x:x[1])\n",
    "print(arr)"
   ]
  },
  {
   "cell_type": "code",
   "execution_count": 6,
   "metadata": {},
   "outputs": [],
   "source": [
    "current_time = 0\n",
    "for i in range(n):\n",
    "    at = arr[i][1]\n",
    "    bt = arr[i][2]\n",
    "    if at > current_time:\n",
    "        current_time = at\n",
    "    start_time = current_time\n",
    "    arr[i][3]  = start_time + bt\n",
    "    arr[i][4] = arr[i][3] - at\n",
    "    arr[i][5]  = arr[i][4] - bt\n",
    "    arr[i][6]  = start_time -at\n",
    "    current_time = arr[i][3]"
   ]
  },
  {
   "cell_type": "code",
   "execution_count": 7,
   "metadata": {},
   "outputs": [
    {
     "name": "stdout",
     "output_type": "stream",
     "text": [
      "[[3, 0, 2, 2, 2, 0, 0], [1, 3, 1, 4, 1, 0, 0], [4, 3, 7, 11, 8, 1, 1], [2, 4, 5, 16, 12, 7, 7], [5, 5, 5, 21, 16, 11, 11]]\n"
     ]
    }
   ],
   "source": [
    "print(arr)"
   ]
  },
  {
   "cell_type": "code",
   "execution_count": null,
   "metadata": {},
   "outputs": [],
   "source": [
    "arr = sorted(arr,key=lambda x:x[0])"
   ]
  },
  {
   "cell_type": "code",
   "execution_count": 8,
   "metadata": {},
   "outputs": [
    {
     "name": "stdout",
     "output_type": "stream",
     "text": [
      "[[3, 0, 2, 2, 2, 0, 0], [1, 3, 1, 4, 1, 0, 0], [4, 3, 7, 11, 8, 1, 1], [2, 4, 5, 16, 12, 7, 7], [5, 5, 5, 21, 16, 11, 11]]\n"
     ]
    }
   ],
   "source": [
    "print(arr)"
   ]
  },
  {
   "cell_type": "code",
   "execution_count": null,
   "metadata": {},
   "outputs": [],
   "source": []
  }
 ],
 "metadata": {
  "kernelspec": {
   "display_name": "Python 3",
   "language": "python",
   "name": "python3"
  },
  "language_info": {
   "codemirror_mode": {
    "name": "ipython",
    "version": 3
   },
   "file_extension": ".py",
   "mimetype": "text/x-python",
   "name": "python",
   "nbconvert_exporter": "python",
   "pygments_lexer": "ipython3",
   "version": "3.8.5"
  }
 },
 "nbformat": 4,
 "nbformat_minor": 4
}
