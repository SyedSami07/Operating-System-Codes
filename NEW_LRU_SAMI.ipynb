{
 "cells": [
  {
   "cell_type": "code",
   "execution_count": 8,
   "id": "e81502af-08a3-4385-b811-ffa433412888",
   "metadata": {},
   "outputs": [
    {
     "name": "stdin",
     "output_type": "stream",
     "text": [
      "Frame size:  3\n"
     ]
    },
    {
     "name": "stdout",
     "output_type": "stream",
     "text": [
      "Miss:  7\n",
      "Hit:  5\n"
     ]
    }
   ],
   "source": [
    "frame = int(input(\"Frame size: \"))          \n",
    "ref_string = list(map(int, input(\"Ref values: \").split()))\n",
    "\n",
    "frames = []\n",
    "hit, miss = 0, 0\n",
    "               \n",
    "for page in ref_string:\n",
    "    if page in frames:\n",
    "        hit+=1\n",
    "        frames.remove(page)\n",
    "    else:\n",
    "        miss+=1\n",
    "        if len(frames) >= frame:\n",
    "            frames.pop(0)\n",
    "    frames.append(page)\n",
    "print(\"Miss: \", miss)\n",
    "print(\"Hit: \", hit)"
   ]
  },
  {
   "cell_type": "code",
   "execution_count": null,
   "id": "c99fdafc-f012-46bd-96dc-e1e2a5273077",
   "metadata": {},
   "outputs": [],
   "source": []
  }
 ],
 "metadata": {
  "kernelspec": {
   "display_name": "Python 3 (ipykernel)",
   "language": "python",
   "name": "python3"
  },
  "language_info": {
   "codemirror_mode": {
    "name": "ipython",
    "version": 3
   },
   "file_extension": ".py",
   "mimetype": "text/x-python",
   "name": "python",
   "nbconvert_exporter": "python",
   "pygments_lexer": "ipython3",
   "version": "3.13.1"
  }
 },
 "nbformat": 4,
 "nbformat_minor": 5
}
